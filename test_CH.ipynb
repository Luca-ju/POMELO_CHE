{
 "cells": [
  {
   "cell_type": "code",
   "execution_count": 1,
   "metadata": {},
   "outputs": [],
   "source": [
    "import os\n",
    "from utils import read_input_raster_data_to_np, read_input_raster_data_to_np_buildings, read_input_raster_data\n",
    "import numpy as np\n",
    "from osgeo import gdal, ogr, osr\n",
    "import matplotlib.pyplot as plt\n",
    "import matplotlib.image as mpimg\n",
    "import geopandas as gpd\n",
    "import pandas as pd\n",
    "import rasterio as rio\n",
    "from rasterio.crs import CRS\n",
    "from utils import plot_2dmatrix\n",
    "import shutil\n"
   ]
  },
  {
   "cell_type": "code",
   "execution_count": 97,
   "metadata": {},
   "outputs": [],
   "source": [
    "\n",
    "root_paths = [\"/scratch3/ldominiak/luca_pomelo_input_data/\"]\n",
    "\n",
    "for dir in root_paths:\n",
    "    if os.path.isdir(dir):\n",
    "        root_path = dir"
   ]
  },
  {
   "cell_type": "code",
   "execution_count": 98,
   "metadata": {},
   "outputs": [],
   "source": [
    "input_paths = {\n",
    "    \"che\": {\n",
    "        \"buildings_switzerland_WEST\": f\"{root_path}CHE/CHE_TLM/TLM_BAUTEN/swissTLM3D_TLM_GEBAEUDE_FOOTPRINT_WEST.shp\", \n",
    "        \"buildings_switzerland_OST\": f\"{root_path}CHE/CHE_TLM/TLM_BAUTEN/swissTLM3D_TLM_GEBAEUDE_FOOTPRINT_OST.shp\"\n",
    "    }\n",
    "\n",
    "}"
   ]
  },
  {
   "cell_type": "code",
   "execution_count": 87,
   "metadata": {},
   "outputs": [],
   "source": [
    "def get_tiff_from_shp(input_paths, country_name):\n",
    "\n",
    "    merged_shp = 0\n",
    "\n",
    "    for key in input_paths[country_name]:\n",
    "        path = input_paths[country_name][key]\n",
    "        shp = gpd.read_file(path)\n",
    "\n",
    "        merged_shp = gpd.GeoDataFrame(pd.concat([shp, merged_shp]), ignore_index=True)\n",
    "\n",
    "        print(merged_shp)\n",
    "\n",
    "\n",
    "\n",
    "        "
   ]
  },
  {
   "cell_type": "code",
   "execution_count": 32,
   "metadata": {},
   "outputs": [],
   "source": [
    "shp1 = gpd.read_file(input_paths[\"che\"][\"buildings_switzerland_WEST\"])\n",
    "shp2 = gpd.read_file(input_paths[\"che\"][\"buildings_switzerland_OST\"])\n",
    "\n",
    "### Reading the west and the east part of switzerland; both 1 gb, takes forever\n"
   ]
  },
  {
   "cell_type": "code",
   "execution_count": 33,
   "metadata": {},
   "outputs": [],
   "source": [
    "merged_shp = gpd.GeoDataFrame(pd.concat([shp1, shp2]))\n",
    "\n",
    "### Merging them into one shape file\n"
   ]
  },
  {
   "cell_type": "code",
   "execution_count": 34,
   "metadata": {},
   "outputs": [],
   "source": [
    "fields_to_delete = ['DATUM_AEND','DATUM_ERST','ERSTELL_J','ERSTELL_M','REVISION_J','REVISION_M','GRUND_AEND','HERKUNFT','HERKUNFT_J',\n",
    "                    'HERKUNFT_M','OBJEKTART','REVISION_Q','BAU_NAME_U','NAME','NUTZUNG']\n",
    "\n",
    "merged_shp.drop(fields_to_delete, axis=1, inplace=True)\n",
    "### Droping all unnecessary columns for faster oeprations"
   ]
  },
  {
   "cell_type": "code",
   "execution_count": 35,
   "metadata": {},
   "outputs": [],
   "source": [
    "merged_shp = merged_shp.to_crs(4326)\n",
    "\n",
    "### Changing the CRS to wgs84"
   ]
  },
  {
   "cell_type": "code",
   "execution_count": 36,
   "metadata": {},
   "outputs": [],
   "source": [
    "merged_shp.to_file(\"/scratch3/ldominiak/luca_pomelo_input_data/CHE/merged_CHE.shp\")\n",
    "\n",
    "### merged file saved to directory"
   ]
  },
  {
   "cell_type": "code",
   "execution_count": 99,
   "metadata": {},
   "outputs": [],
   "source": [
    "used_shp = ogr.Open(\"/scratch3/ldominiak/luca_pomelo_input_data/CHE/merged_CHE.shp\")\n",
    "source_layer = used_shp.GetLayer()\n",
    "defn = source_layer.GetLayerDefn()\n",
    "\n",
    "###ab hier brauchen\n",
    "### CRS ändern"
   ]
  },
  {
   "cell_type": "code",
   "execution_count": 193,
   "metadata": {},
   "outputs": [],
   "source": [
    "\n",
    "column_names = []\n",
    "\n",
    "for n in range(defn.GetFieldCount()):\n",
    "    fdefn = defn.GetFieldDefn(n)\n",
    "    column_names.append(fdefn.name)"
   ]
  },
  {
   "cell_type": "code",
   "execution_count": 195,
   "metadata": {},
   "outputs": [
    {
     "data": {
      "text/plain": [
       "'UUID'"
      ]
     },
     "execution_count": 195,
     "metadata": {},
     "output_type": "execute_result"
    }
   ],
   "source": [
    "column_names[0]"
   ]
  },
  {
   "cell_type": "code",
   "execution_count": 196,
   "metadata": {},
   "outputs": [
    {
     "name": "stdout",
     "output_type": "stream",
     "text": [
      "5.956249991169982 10.495416639679982 47.81458334344999 45.81708335143999\n"
     ]
    }
   ],
   "source": [
    "Output_raster_location = \"/scratch3/ldominiak/luca_pomelo_input_data/CHE/merged_CHE.tif\"\n",
    "pixel_size = 0.00083333333  #0.000009056 degrees/meter\n",
    "\n",
    "path = \"/scratch3/ldominiak/luca_pomelo_input_data/CHE/CHE_Covariates/che_dst_bsgme_100m_2015.tif\"\n",
    "with rio.open(path) as src:\n",
    "    # read the spatial information\n",
    "    left, bottom, right, top = src.bounds\n",
    "print(left, right, top, bottom)"
   ]
  },
  {
   "cell_type": "code",
   "execution_count": 197,
   "metadata": {},
   "outputs": [
    {
     "name": "stdout",
     "output_type": "stream",
     "text": [
      "5447\n",
      "2397\n"
     ]
    }
   ],
   "source": [
    "x_res = int(round((right - left) / pixel_size))\n",
    "y_res = int(round((top - bottom) / pixel_size))\n",
    "print(x_res)\n",
    "print(y_res)"
   ]
  },
  {
   "cell_type": "code",
   "execution_count": 198,
   "metadata": {},
   "outputs": [],
   "source": [
    "target_ds = gdal.GetDriverByName('GTiff').Create(Output_raster_location, x_res, y_res, 1, gdal.GDT_Float32, [\"COMPRESS=LZW\"])\n",
    "target_ds.SetGeoTransform((left, pixel_size, 0.0, top, 0.0, -pixel_size))\n",
    "srse = osr.SpatialReference()\n",
    "proj = 'EPSG:4326'\n",
    "srse.SetWellKnownGeogCS(proj)\n",
    "target_ds.SetProjection(srse.ExportToWkt())\n",
    "band = target_ds.GetRasterBand(1)\n",
    "target_ds.GetRasterBand(1).SetNoDataValue(-99999)\n",
    "band.Fill(-99999)\n",
    "gdal.RasterizeLayer(target_ds, [1], source_layer, None, None, [1], options = ['ALL_TOUCHED=TRUE, ATTRITURE=column_names[0]'])\n",
    "target_ds = None"
   ]
  },
  {
   "cell_type": "code",
   "execution_count": 199,
   "metadata": {},
   "outputs": [],
   "source": [
    "data_set = gdal.Open(\"/scratch3/ldominiak/luca_pomelo_input_data/CHE/merged_CHE.tif\")\n",
    "band_1 = data_set.GetRasterBand(1)\n",
    "b1 = band_1.ReadAsArray() \n",
    "\n",
    "data_set_2 = gdal.Open(\"/scratch3/ldominiak/luca_pomelo_input_data/CHE/CHE_Covariates/che_dst_bsgme_100m_2015.tif\")\n",
    "band_2 = data_set_2.GetRasterBand(1)\n",
    "b2 = band_2.ReadAsArray() "
   ]
  },
  {
   "cell_type": "code",
   "execution_count": 200,
   "metadata": {},
   "outputs": [
    {
     "data": {
      "image/png": "[encoded data removed]",
      "text/plain": [
       "<Figure size 654.458x288 with 1 Axes>"
      ]
     },
     "metadata": {
      "needs_background": "light"
     },
     "output_type": "display_data"
    },
    {
     "data": {
      "text/plain": [
       "<Figure size 432x288 with 0 Axes>"
      ]
     },
     "metadata": {},
     "output_type": "display_data"
    },
    {
     "data": {
      "image/png": "[encoded data removed]",
      "text/plain": [
       "<Figure size 654.458x288 with 1 Axes>"
      ]
     },
     "metadata": {
      "needs_background": "light"
     },
     "output_type": "display_data"
    }
   ],
   "source": [
    "plot_2dmatrix(b1)\n",
    "plot_2dmatrix(b2)"
   ]
  },
  {
   "cell_type": "code",
   "execution_count": 201,
   "metadata": {},
   "outputs": [
    {
     "data": {
      "text/plain": [
       "{'driver': 'GTiff',\n",
       " 'dtype': 'float32',\n",
       " 'nodata': -99999.0,\n",
       " 'width': 5447,\n",
       " 'height': 2397,\n",
       " 'count': 1,\n",
       " 'crs': CRS.from_epsg(4326),\n",
       " 'transform': Affine(0.00083333333, 0.0, 5.956249991169982,\n",
       "        0.0, -0.00083333333, 47.81458334344999)}"
      ]
     },
     "execution_count": 201,
     "metadata": {},
     "output_type": "execute_result"
    }
   ],
   "source": [
    "with rio.open(\"/scratch3/ldominiak/luca_pomelo_input_data/CHE/merged_CHE.tif\", 'r') as tmp:\n",
    "    metadata_CH = tmp.meta.copy()\n",
    "metadata_CH"
   ]
  },
  {
   "cell_type": "code",
   "execution_count": 202,
   "metadata": {},
   "outputs": [
    {
     "data": {
      "text/plain": [
       "{'driver': 'GTiff',\n",
       " 'dtype': 'float32',\n",
       " 'nodata': -99999.0,\n",
       " 'width': 5447,\n",
       " 'height': 2397,\n",
       " 'count': 1,\n",
       " 'crs': CRS.from_epsg(4326),\n",
       " 'transform': Affine(0.00083333333, 0.0, 5.956249991169982,\n",
       "        0.0, -0.00083333333, 47.81458334344999)}"
      ]
     },
     "execution_count": 202,
     "metadata": {},
     "output_type": "execute_result"
    }
   ],
   "source": [
    "with rio.open(\"/scratch3/ldominiak/luca_pomelo_input_data/CHE/CHE_Covariates/che_dst_bsgme_100m_2015.tif\", 'r') as tmp:\n",
    "    meta_test = tmp.meta.copy()\n",
    "meta_test"
   ]
  },
  {
   "cell_type": "code",
   "execution_count": 191,
   "metadata": {},
   "outputs": [
    {
     "data": {
      "text/plain": [
       "'/scratch3/ldominiak/luca_pomelo_input_data/CHE/CHE_Covariates/che_merged_CHE_buildings_final.tif'"
      ]
     },
     "execution_count": 191,
     "metadata": {},
     "output_type": "execute_result"
    }
   ],
   "source": [
    "\n",
    "# specify the source file and destination directory\n",
    "src_file = \"/scratch3/ldominiak/luca_pomelo_input_data/CHE/merged_CHE.tif\"\n",
    "dst_dir = \"/scratch3/ldominiak/luca_pomelo_input_data/CHE/CHE_Covariates/che_merged_CHE_buildings_final.tif\"\n",
    "\n",
    "# move the file\n",
    "shutil.move(src_file, dst_dir)"
   ]
  },
  {
   "cell_type": "code",
   "execution_count": 5,
   "metadata": {},
   "outputs": [
    {
     "data": {
      "text/plain": [
       "<Figure size 432x288 with 0 Axes>"
      ]
     },
     "metadata": {},
     "output_type": "display_data"
    },
    {
     "data": {
      "image/png": "[encoded data removed]",
      "text/plain": [
       "<Figure size 297.499x288 with 1 Axes>"
      ]
     },
     "metadata": {
      "needs_background": "light"
     },
     "output_type": "display_data"
    }
   ],
   "source": [
    "test = '/scratch3/ldominiak/luca_pomelo_input_data/TZA/admin_regions/tza_wp_admin_regions.tif'\n",
    "\n",
    "data_new = gdal.Open(test)\n",
    "band_1_1 = data_new.GetRasterBand(1)\n",
    "b1_1 = band_1_1.ReadAsArray() \n",
    "\n",
    "plot_2dmatrix(b1_1)"
   ]
  },
  {
   "cell_type": "code",
   "execution_count": 5,
   "metadata": {},
   "outputs": [
    {
     "data": {
      "text/plain": [
       "<Geographic 2D CRS: EPSG:4326>\n",
       "Name: WGS 84\n",
       "Axis Info [ellipsoidal]:\n",
       "- Lat[north]: Geodetic latitude (degree)\n",
       "- Lon[east]: Geodetic longitude (degree)\n",
       "Area of Use:\n",
       "- name: World.\n",
       "- bounds: (-180.0, -90.0, 180.0, 90.0)\n",
       "Datum: World Geodetic System 1984 ensemble\n",
       "- Ellipsoid: WGS 84\n",
       "- Prime Meridian: Greenwich"
      ]
     },
     "execution_count": 5,
     "metadata": {},
     "output_type": "execute_result"
    }
   ],
   "source": [
    "shape_path = \"/scratch3/ldominiak/luca_pomelo_input_data/CHE/merged_CHE.shp\"\n",
    "gdf = gpd.read_file(shape_path)\n",
    "\n",
    "gdf.crs"
   ]
  },
  {
   "cell_type": "code",
   "execution_count": 40,
   "metadata": {},
   "outputs": [],
   "source": [
    "# define image metadata\n",
    "pixel_size = 0.00083333333\n",
    "\n",
    "path = \"/scratch3/ldominiak/luca_pomelo_input_data/CHE/CHE_Covariates/che_dst_bsgme_100m_2015.tif\"\n",
    "with rio.open(path) as src:\n",
    "    # read the spatial information\n",
    "    left, bottom, right, top = src.bounds\n",
    "\n",
    "x_res = int(round((right - left) / pixel_size))\n",
    "y_res = int(round((top - bottom) / pixel_size))\n"
   ]
  },
  {
   "cell_type": "code",
   "execution_count": 41,
   "metadata": {},
   "outputs": [],
   "source": [
    "raster_data = np.zeros((y_res, x_res), dtype='float32')"
   ]
  },
  {
   "cell_type": "code",
   "execution_count": 42,
   "metadata": {},
   "outputs": [],
   "source": [
    "for idx, row in gdf.iterrows():\n",
    "    x,y = row['geometry'].centroid.coords[0]\n",
    "    col = int((x - left) / pixel_size)\n",
    "    row = int((top - y) / pixel_size)\n",
    "    raster_data[row, col] += 1"
   ]
  },
  {
   "cell_type": "code",
   "execution_count": 43,
   "metadata": {},
   "outputs": [],
   "source": [
    "with rio.open(\"/scratch3/ldominiak/luca_pomelo_input_data/CHE/CHE_Covariates/che_esaccilc_dst_water_100m_2000_2012.tif\", 'r') as tmp:\n",
    "    meta_test = tmp.meta.copy()\n"
   ]
  },
  {
   "cell_type": "code",
   "execution_count": 52,
   "metadata": {},
   "outputs": [],
   "source": [
    "profile = {\n",
    "    'driver': 'GTiff',\n",
    "    'dtype': meta_test['dtype'],\n",
    "    'nodata': -99999.0,\n",
    "    'count': 1,\n",
    "    'width': x_res,\n",
    "    'height': y_res,\n",
    "    'crs': CRS.from_epsg(4326),\n",
    "    'transform': rio.transform.from_bounds(left, bottom, right, top, x_res, y_res),\n",
    "}"
   ]
  },
  {
   "cell_type": "code",
   "execution_count": 53,
   "metadata": {},
   "outputs": [],
   "source": [
    "output_file = \"/scratch3/ldominiak/luca_pomelo_input_data/CHE/CHE_Covariates/che_merged_CHE_buildings_final_new.tif\"\n",
    "\n",
    "with rio.open(output_file, 'w', **profile) as dist:\n",
    "    dist.write(raster_data, 1)"
   ]
  },
  {
   "cell_type": "code",
   "execution_count": 54,
   "metadata": {},
   "outputs": [
    {
     "data": {
      "text/plain": [
       "{'driver': 'GTiff',\n",
       " 'dtype': 'float32',\n",
       " 'nodata': -99999.0,\n",
       " 'width': 5447,\n",
       " 'height': 2397,\n",
       " 'count': 1,\n",
       " 'crs': CRS.from_epsg(4326),\n",
       " 'transform': Affine(0.00083333333, 0.0, 5.956249991169982,\n",
       "        0.0, -0.0008333333299999996, 47.81458334344999)}"
      ]
     },
     "execution_count": 54,
     "metadata": {},
     "output_type": "execute_result"
    }
   ],
   "source": [
    "with rio.open(\"/scratch3/ldominiak/luca_pomelo_input_data/CHE/CHE_Covariates/che_merged_CHE_buildings_final_new.tif\", 'r') as tmp:\n",
    "    meta_test = tmp.meta.copy()\n",
    "meta_test"
   ]
  },
  {
   "cell_type": "code",
   "execution_count": 56,
   "metadata": {},
   "outputs": [
    {
     "data": {
      "text/plain": [
       "{'driver': 'GTiff',\n",
       " 'dtype': 'float32',\n",
       " 'nodata': None,\n",
       " 'width': 13342,\n",
       " 'height': 12916,\n",
       " 'count': 1,\n",
       " 'crs': CRS.from_epsg(4326),\n",
       " 'transform': Affine(0.00083333333, 0.0, 29.327083231019998,\n",
       "        0.0, -0.00083333333, -0.9820831280299984)}"
      ]
     },
     "execution_count": 56,
     "metadata": {},
     "output_type": "execute_result"
    }
   ],
   "source": [
    "with rio.open(\"/scratch3/ldominiak/luca_pomelo_input_data/TZA_covariates/tza_gbuildings.tif\", 'r') as tmp:\n",
    "    meta_test = tmp.meta.copy()\n",
    "meta_test"
   ]
  },
  {
   "cell_type": "code",
   "execution_count": null,
   "metadata": {},
   "outputs": [],
   "source": []
  }
 ],
 "metadata": {
  "kernelspec": {
   "display_name": "POMELOenv",
   "language": "python",
   "name": "python3"
  },
  "language_info": {
   "codemirror_mode": {
    "name": "ipython",
    "version": 3
   },
   "file_extension": ".py",
   "mimetype": "text/x-python",
   "name": "python",
   "nbconvert_exporter": "python",
   "pygments_lexer": "ipython3",
   "version": "3.10.6"
  },
  "orig_nbformat": 4,
  "vscode": {
   "interpreter": {
    "hash": "8499bdda243a8dd2c2d8ed8e40517de087d7601cc339f0a29c234988b0a1279c"
   }
  }
 },
 "nbformat": 4,
 "nbformat_minor": 2
}
